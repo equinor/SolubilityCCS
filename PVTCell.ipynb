{
 "cells": [
  {
   "cell_type": "code",
   "execution_count": 1,
   "metadata": {},
   "outputs": [],
   "source": [
    "from neqsim_functions import  get_co2_parameters\n",
    "from fluid import Fluid"
   ]
  },
  {
   "cell_type": "code",
   "execution_count": null,
   "metadata": {},
   "outputs": [],
   "source": [
    "acid = \"H2SO4\" # HNO3 or H2SO4\n",
    "acid_in_co2 = 3000 #ppm\n",
    "water_in_co2 = 400 #ppm\n",
    "temperature = -25 # C\n",
    "pressure = 100 # bara\n",
    "flow_rate = 1 #kg/hr not necessary - can be set as default 1. Needed to predict how much we have acid in liquid form. If we need just 1 or 0 if acid is formed or not this value is not needed\n",
    "\n",
    "\n",
    "\n",
    "fluid = Fluid()\n",
    "fluid.add_component(\"CO2\", 1.0 - acid_in_co2/1e6 - water_in_co2/1e6) #mole\n",
    "fluid.add_component(acid, acid_in_co2/1e6) #mole\n",
    "fluid.add_component(\"H2O\", water_in_co2/1e6) #mole\n",
    "fluid.set_temperature(temperature+273.15) # to Kelvin\n",
    "fluid.set_pressure(pressure) #bara\n",
    "fluid.calc_vapour_pressure() \n",
    "fluid.flash_activity()\n",
    "fluid.set_flow_rate(1, \"kg/hr\")\n",
    "\n",
    "print(\"Mole fraction of gas phase to total phase\", fluid.betta, \"mol/mol\") #if this value is lower than 1 - we have danger of corrosion due to 2 phase. The lower the value the more\n",
    "print(\"water in CO2 \", 1e6*fluid.phases[0].get_component_fraction(\"H2O\"), \" ppm mol\") #ppm \n",
    "print(acid, \"in CO2 \", 1e6*fluid.phases[0].get_component_fraction(acid), \" ppm mol\") #ppm\n",
    "\n",
    "if fluid.betta < 1:\n",
    "    print(\"Second phase is \", fluid.phases[1].name)\n",
    "    print(\"Liquid phase formed\", fluid.phases[1].get_acid_wt_prc(acid), \" wt %\") \n",
    "    print(\"Liquid phase formed\", fluid.phases[1].get_flow_rate(\"kg/hr\"), \"kg/hr\") # for this we need user to set flow rate at the beginning \n",
    "    print(\"Water in liquid phase \", fluid.phases[1].get_component_fraction(\"H2O\"), \"mol fraction\") #ppm \n",
    "    print(acid, \" in liquid phase \", fluid.phases[1].get_component_fraction(acid), \"mol fraction\") #ppm\n",
    "\n",
    "## Additional information for pure CO2 at this conditions \n",
    "\n",
    "results = get_co2_parameters(pressure, temperature)\n",
    "print(\"Pure CO2 density\", results[\"density\"], \"kg/m3\")\n",
    "print(\"Pure CO2 speed of sound:\", results[\"speed_of_sound\"], \"m/s\")\n",
    "print(\"Pure CO2 enthalpy:\", results[\"enthalpy\"], \"kJ/kg\")\n",
    "print(\"Pure CO2 entropy:\", results[\"entropy\"], \"J/K\")"
   ]
  }
 ],
 "metadata": {
  "kernelspec": {
   "display_name": "Python 3",
   "language": "python",
   "name": "python3"
  },
  "language_info": {
   "codemirror_mode": {
    "name": "ipython",
    "version": 3
   },
   "file_extension": ".py",
   "mimetype": "text/x-python",
   "name": "python",
   "nbconvert_exporter": "python",
   "pygments_lexer": "ipython3",
   "version": "3.12.9"
  }
 },
 "nbformat": 4,
 "nbformat_minor": 2
}
