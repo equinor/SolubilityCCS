{
 "cells": [
  {
   "cell_type": "code",
   "execution_count": 1,
   "metadata": {},
   "outputs": [],
   "source": [
    "from neqsim_functions import  get_co2_parameters\n",
    "from fluid import Fluid\n",
    "import matplotlib.pyplot as plt"
   ]
  },
  {
   "cell_type": "code",
   "execution_count": 7,
   "metadata": {},
   "outputs": [
    {
     "name": "stdout",
     "output_type": "stream",
     "text": [
      "Mole fraction of gas phase to total phase 0.9987492467462289 mol/mol\n",
      "water in CO2  2098.5092519569557  ppm mol\n",
      "HNO3 in CO2  7.7586053579132965  ppm mol\n",
      "Second phase is  ACIDIC\n",
      "Liquid phase formed 5.2928356025389585  wt %\n",
      "Liquid phase formed 5324.542569857804 t/y\n",
      "Water in liquid phase  0.9842834325072061 mol fraction\n",
      "HNO3  in liquid phase  0.015716567492793928 mol fraction\n",
      "Pure CO2 density 864.1859259274647 kg/m3\n",
      "Pure CO2 speed of sound: 451.4925413361345 m/s\n",
      "Pure CO2 enthalpy: -179.77874999905623 kJ/kg\n",
      "Pure CO2 entropy: -57.67928383916211 J/K\n"
     ]
    }
   ],
   "source": [
    "acid = \"HNO3\" # HNO3 or H2SO4\n",
    "acid_in_co2 = 15 #ppm\n",
    "water_in_co2 = 2550 #ppm\n",
    "temperature = 2 # C\n",
    "pressure = 100 # bara\n",
    "flow_rate = 10 #Mt/year not necessary - can be set as default 1. Needed to predict how much we have acid in liquid form. If we need just 1 or 0 if acid is formed or not this value is not needed\n",
    "\n",
    "fluid = Fluid()\n",
    "fluid.add_component(\"CO2\", 1.0 - acid_in_co2/1e6 - water_in_co2/1e6) #mole\n",
    "fluid.add_component(acid, acid_in_co2/1e6) #mole\n",
    "fluid.add_component(\"H2O\", water_in_co2/1e6) #mole\n",
    "fluid.set_temperature(temperature+273.15) # to Kelvin\n",
    "fluid.set_pressure(pressure) #bara\n",
    "fluid.set_flow_rate(flow_rate*1E6*1000/(365*24), \"kg/hr\")\n",
    "fluid.calc_vapour_pressure() \n",
    "fluid.flash_activity()\n",
    "\n",
    "print(\"Mole fraction of gas phase to total phase\", fluid.betta, \"mol/mol\") #if this value is lower than 1 - we have danger of corrosion due to 2 phase. The lower the value the more\n",
    "print(\"water in CO2 \", 1e6*fluid.phases[0].get_component_fraction(\"H2O\"), \" ppm mol\") #ppm \n",
    "print(acid, \"in CO2 \", 1e6*fluid.phases[0].get_component_fraction(acid), \" ppm mol\") #ppm\n",
    "\n",
    "if fluid.betta < 1:\n",
    "    print(\"Second phase is \", fluid.phases[1].name)\n",
    "    print(\"Liquid phase formed\", fluid.phases[1].get_acid_wt_prc(acid), \" wt %\") \n",
    "    print(\"Liquid phase formed\", fluid.phases[1].get_flow_rate(\"kg/hr\")*24*365/1000, \"t/y\") # for this we need user to set flow rate at the beginning \n",
    "    print(\"Water in liquid phase \", fluid.phases[1].get_component_fraction(\"H2O\"), \"mol fraction\") #ppm \n",
    "    print(acid, \" in liquid phase \", fluid.phases[1].get_component_fraction(acid), \"mol fraction\") #ppm\n",
    "\n",
    "## Additional information for pure CO2 at this conditions \n",
    "\n",
    "results = get_co2_parameters(pressure, temperature)\n",
    "print(\"Pure CO2 density\", results[\"density\"], \"kg/m3\")\n",
    "print(\"Pure CO2 speed of sound:\", results[\"speed_of_sound\"], \"m/s\")\n",
    "print(\"Pure CO2 enthalpy:\", results[\"enthalpy\"], \"kJ/kg\")\n",
    "print(\"Pure CO2 entropy:\", results[\"entropy\"], \"J/K\")\n",
    "\n"
   ]
  },
  {
   "cell_type": "code",
   "execution_count": 11,
   "metadata": {},
   "outputs": [
    {
     "data": {
      "text/plain": [
       "[2.2246783259699465e+50, 1.388717083548144e-05, 3.2983257492823647e-21]"
      ]
     },
     "execution_count": 11,
     "metadata": {},
     "output_type": "execute_result"
    }
   ],
   "source": [
    "fluid.activity"
   ]
  },
  {
   "cell_type": "code",
   "execution_count": 12,
   "metadata": {},
   "outputs": [
    {
     "data": {
      "text/plain": [
       "[99.96499999999999, 1.388717083548144e-05, 3.2983257492823647e-21]"
      ]
     },
     "execution_count": 12,
     "metadata": {},
     "output_type": "execute_result"
    }
   ],
   "source": [
    "fluid.fugacity"
   ]
  },
  {
   "cell_type": "code",
   "execution_count": 8,
   "metadata": {},
   "outputs": [],
   "source": [
    "fluid.phases[1].flow_rate = fluid.flow_rate*(1-0.9984571988770767)"
   ]
  }
 ],
 "metadata": {
  "kernelspec": {
   "display_name": "Python 3",
   "language": "python",
   "name": "python3"
  },
  "language_info": {
   "codemirror_mode": {
    "name": "ipython",
    "version": 3
   },
   "file_extension": ".py",
   "mimetype": "text/x-python",
   "name": "python",
   "nbconvert_exporter": "python",
   "pygments_lexer": "ipython3",
   "version": "3.12.9"
  }
 },
 "nbformat": 4,
 "nbformat_minor": 2
}
