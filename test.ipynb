{
 "cells": [
  {
   "cell_type": "code",
   "execution_count": 1,
   "metadata": {},
   "outputs": [],
   "source": [
    "from neqsim import jNeqSim\n",
    "import pandas as pd\n",
    "import warnings\n",
    "import numpy as np\n",
    "# Suppress runtime warnings\n",
    "warnings.filterwarnings(\"ignore\")\n",
    "from scipy.optimize import bisect\n",
    "jNeqSim.util.database.NeqSimDataBase.replaceTable('COMP', \"/workspaces/SolubilityCCS/Database/COMP.csv\") ##\n",
    "\n",
    "from neqsim_functions import get_water_fugacity_coefficient, get_acid_fugacity_coeff\n",
    "from sulfuric_acid_activity import calc_activity_water_h2so4"
   ]
  },
  {
   "cell_type": "code",
   "execution_count": 2,
   "metadata": {},
   "outputs": [],
   "source": [
    "class Phase:\n",
    "    def __init__(self):\n",
    "        self.components = []\n",
    "        self.pressure = np.nan\n",
    "        self.temperature = np.nan\n",
    "        self.database = np.nan\n",
    "        self.reading_properties = np.nan\n",
    "        self.flow_rate = 1e-10\n",
    "        self.fractions = []\n",
    "        self.fraction = np.nan\n",
    "        self.name = \"None\"\n",
    "\n",
    "    def phase_to_fluid(self):\n",
    "\n",
    "        fluid = Fluid()\n",
    "        for component, fraction in zip(self.components, self.fractions):\n",
    "            fluid.add_component(component, fraction)\n",
    "        fluid.set_temperature(self.temperature)\n",
    "        fluid.set_pressure(self.pressure)\n",
    "        fluid.set_flow_rate(self.get_flow_rate(\"kg/hr\"), \"kg/hr\")\n",
    "\n",
    "        return fluid\n",
    "\n",
    "    def set_phase(self, components, fractions, fraction, name):\n",
    "        self.components = components\n",
    "        self.fractions = fractions\n",
    "        self.fraction = fraction\n",
    "        self.name = name\n",
    "\n",
    "    def set_database(self, database):\n",
    "        self.database = database\n",
    "\n",
    "    def set_properties(self, reading_properties):\n",
    "        self.reading_properties = reading_properties\n",
    "\n",
    "    def set_pressure(self, pressure):\n",
    "        self.pressure = pressure\n",
    "\n",
    "    def set_temperature(self, temperature):\n",
    "        self.temperature = temperature\n",
    "\n",
    "    def get_phase_fraction(self):\n",
    "        return self.fraction\n",
    "\n",
    "    def get_fractions(self):\n",
    "        return self.fractions\n",
    "\n",
    "    def get_component_fractions(self):\n",
    "        return dict(zip(self.components, self.fractions))\n",
    "\n",
    "    def set_phase_flow_rate(self, total_flow_rate):\n",
    "        self.flow_rate = total_flow_rate * self.fraction\n",
    "\n",
    "    def get_molar_mass(self):\n",
    "        self.MW = 0\n",
    "        for i, component in enumerate(self.components):\n",
    "            self.MW += self.reading_properties[\"M\"][i]*self.fractions[i]/1000\n",
    "        return self.MW\n",
    "\n",
    "    def get_fraction_component(self, component):\n",
    "        for i, componenti in enumerate(self.components):\n",
    "\n",
    "            if component == componenti:\n",
    "                return self.fractions[i]\n",
    "        return 0\n",
    "\n",
    "    def get_flow_rate(self, unit):\n",
    "        if unit == \"mole/hr\":\n",
    "            return self.flow_rate\n",
    "        elif unit == \"kg/hr\":\n",
    "            return self.flow_rate*self.get_molar_mass()\n",
    "        else:\n",
    "            raise ValueError(\"No UNIT FOUND for Flow Rate\")\n",
    "\n",
    "    def get_component_flow_rate(self, component, unit):\n",
    "        index = self.components.index(component)\n",
    "        if unit == \"mole/hr\":\n",
    "            return self.flow_rate*self.fractions[index]\n",
    "        elif unit == \"kg/hr\":\n",
    "            return self.get_component_flow_rate(component, \"mole/hr\")*self.reading_properties[\"M\"][index]/1000\n",
    "        else:\n",
    "            raise ValueError(\"No UNIT FOUND for Flow Rate\")  \n",
    "            \n",
    "    def get_phase_flow_rate(self, unit):\n",
    "        flow_rate = 0\n",
    "        for component in self.components:\n",
    "            flow_rate = flow_rate + self.get_component_flow_rate(component, \"kg/hr\")\n",
    "        return flow_rate\n",
    "        \n",
    "    def get_acid_wt_prc(self, name):\n",
    "        acid = self.get_component_flow_rate(name, \"kg/hr\")\n",
    "        phase_rate = self.get_phase_flow_rate(\"kg/hr\")\n",
    "        return 100*acid/phase_rate\n",
    "        \n",
    "    def normalize(self):\n",
    "        faktor = 1 / sum(self.fractions)\n",
    "        for i in range(len(self.fractions)):\n",
    "            self.fractions[i] = self.fractions[i]*faktor\n",
    "\n",
    "class Fluid:\n",
    "\n",
    "    def __init__(self):\n",
    "        self.phases = []\n",
    "        self.components = []\n",
    "        self.fractions = []\n",
    "        self.molecular_weight = []\n",
    "        self.critical_temperature = []\n",
    "        self.critical_pressure = []\n",
    "        self.accentric_factor = []\n",
    "        self.volume_correction = []\n",
    "        self.reduced_temperature = []\n",
    "        self.reduced_pressure = []\n",
    "        self.K_values = []\n",
    "        self.m = []\n",
    "        self.flow_rate = 1\n",
    "        self.use_volume_correction = False\n",
    "        self.AntoineParameterA = []\n",
    "        self.AntoineParameterB = []\n",
    "        self.AntoineParameterC = []\n",
    "        self.AntoineParameterUnit = []\n",
    "        self.ActivityK1 = []\n",
    "        self.ActivityK2 = []\n",
    "        self.ActivityK3 = []\n",
    "    \n",
    "        self.tol = 1e-3\n",
    "\n",
    "        self.betta = np.nan\n",
    "        self.m = []\n",
    "        self.alpha = []\n",
    "        self.a = []\n",
    "        self.b = []\n",
    "        self.A = []\n",
    "        self.B = []\n",
    "\n",
    "        self.gas_phase = Phase()\n",
    "        self.liquid_phase = Phase()\n",
    "\n",
    "        self.phases.append(self.gas_phase)\n",
    "        self.phases.append(self.liquid_phase)\n",
    "\n",
    "        self.reading_properties = {\n",
    "            \"M\": self.molecular_weight,\n",
    "            \"Tc\": self.critical_temperature,\n",
    "            \"Pc\": self.critical_pressure,\n",
    "            \"w\": self.accentric_factor,\n",
    "            \"s\": self.volume_correction,\n",
    "            \"A\": self.AntoineParameterA, \n",
    "            \"B\": self.AntoineParameterB,\n",
    "            \"C\": self.AntoineParameterC,\n",
    "            \"UnitAnt\": self.AntoineParameterUnit,\n",
    "            \"ActivityK1\": self.ActivityK1,\n",
    "            \"ActivityK2\": self.ActivityK2,\n",
    "            \"ActivityK3\": self.ActivityK3 \n",
    "        }\n",
    "        for i in range(len(self.phases)):\n",
    "            self.get_phase(i).set_properties(self.reading_properties)\n",
    "\n",
    "        self.temperature = 273.15\n",
    "        self.pressure = 1.01325\n",
    "\n",
    "\n",
    "        self.properties = pd.read_csv(\"/workspaces/SolubilityCCS/Database/Properties.csv\", sep=\";\", index_col=\"Component\")\n",
    "\n",
    "\n",
    "    def set_temperature(self, temperature):\n",
    "        self.temperature = temperature\n",
    "        for i in range(len(self.phases)):\n",
    "            self.get_phase(i).set_temperature(temperature)\n",
    "\n",
    "    def set_pressure(self, pressure):\n",
    "        self.pressure = pressure\n",
    "        for i in range(len(self.phases)):\n",
    "            self.get_phase(i).set_pressure(pressure)\n",
    "\n",
    "    def get_molar_mass(self):\n",
    "        self.MW = 0\n",
    "        for i, component in enumerate(self.components):\n",
    "            self.MW += self.reading_properties[\"M\"][i]*self.fractions[i]/1000\n",
    "        return self.MW\n",
    "\n",
    "    def set_flow_rate(self, flow_rate, unit):\n",
    "        self.normalize()\n",
    "        if unit == \"mole/hr\":\n",
    "            self.flow_rate = flow_rate\n",
    "        elif unit == \"kg/hr\":\n",
    "            self.flow_rate = flow_rate/self.get_molar_mass()\n",
    "        else:\n",
    "            self.flow_rate = np.nan\n",
    "            raise ValueError(\"No UNIT FOUND for Flow Rate\")\n",
    "\n",
    "\n",
    "    def get_flow_rate(self, unit):\n",
    "        if unit == \"mole/hr\":\n",
    "            return self.flow_rate\n",
    "        elif unit == \"kg/hr\":\n",
    "            return self.flow_rate*self.get_molar_mass()\n",
    "        else:\n",
    "            raise ValueError(\"No UNIT FOUND for Flow Rate\")\n",
    "\n",
    "    def read_property(self, component):\n",
    "        for column_name, property in self.reading_properties.items():\n",
    "            if component in self.properties.index:\n",
    "                try:\n",
    "                    property.append(float(self.properties.loc[component, column_name].replace(',', '.')))\n",
    "                except:\n",
    "                    property.append(self.properties.loc[component, column_name])\n",
    "            else:\n",
    "                raise ValueError(f\"Properties for component {component} not found in the database.\")\n",
    "\n",
    "    def add_component(self, component, fraction):\n",
    "        self.components.append(component)\n",
    "        self.fractions.append(fraction)\n",
    "        self.read_property(component)\n",
    "\n",
    "    def calc_Rachford_Rice(self, betta):\n",
    "        f = 0\n",
    "\n",
    "        for i, component in enumerate(self.components):\n",
    "            f += self.fractions[i]*(self.K_values[i]-1)/(1-betta+betta*self.K_values[i])\n",
    "        return f\n",
    "\n",
    "    def solve_Rachford_Rice(self):\n",
    "        val_0 = self.calc_Rachford_Rice(0)\n",
    "        val_1 = self.calc_Rachford_Rice(1)\n",
    "        if val_0*val_1 > 0:\n",
    "            if abs(val_0) < abs(val_1):\n",
    "                self.betta = 0\n",
    "            else:\n",
    "                self.betta = 1\n",
    "        else:\n",
    "            self.betta = bisect(self.calc_Rachford_Rice, 0, 1)\n",
    "            min_f = self.calc_Rachford_Rice(self.betta)\n",
    "            if min_f > 1e-5:\n",
    "                raise ValueError(f\"Min f sol Rachford Rice min_f {min_f} \")\n",
    "            if self.betta > 1:\n",
    "                self.betta = 1.0\n",
    "            if self.betta < 0:\n",
    "                self.betta = 0.0\n",
    "        return self.betta\n",
    "    \n",
    "    def calc_phases(self):\n",
    "        yi = []\n",
    "        xi = []\n",
    "        for i, component in enumerate(self.components):\n",
    "            yi.append(self.K_values[i]*self.fractions[i]/(1-self.betta+self.betta*self.K_values[i]))\n",
    "            xi.append(self.fractions[i] / (1 - self.betta + self.betta * self.K_values[i]))\n",
    "        self.get_phase(0).set_phase(self.components, yi, self.betta, \"gas\")\n",
    "        self.get_phase(1).set_phase(self.components, xi, 1 - self.betta, \"liquid\")\n",
    "\n",
    "\n",
    "    def normalize(self):\n",
    "        faktor = 1 / sum(self.fractions)\n",
    "        for i in range(len(self.fractions)):\n",
    "            self.fractions[i] = self.fractions[i]*faktor\n",
    "\n",
    "    def update_k_values_activity(self):\n",
    "\n",
    "        for i, component in enumerate(self.components):\n",
    "            faktor = self.activity[i]/self.fugacity[i]\n",
    "            faktor = max(min(faktor, 1.1), 0.9)\n",
    "            self.K_values[i] = self.K_values[i]*faktor\n",
    "    \n",
    "    def calc_vapour_pressure(self):\n",
    "        self.vapour_pressure = []\n",
    "        for i in range(len(self.fractions)):\n",
    "            vapour_pressure = 10**(self.AntoineParameterA[i] - self.AntoineParameterB[i]/(self.AntoineParameterC[i] + self.temperature - 273.15))\n",
    "            if self.AntoineParameterUnit[i] == \"mmhg\":\n",
    "                vapour_pressure = vapour_pressure*0.00133322\n",
    "            self.vapour_pressure.append(vapour_pressure)\n",
    "\n",
    "    def calc_activity(self):\n",
    "        self.activity = []\n",
    "        self.activity_coefficient = []\n",
    "        \n",
    "        if len(self.components) == 1:\n",
    "            activity = self.get_phase(1).fractions[0]*self.vapour_pressure[0]\n",
    "            self.activity_coefficient.append(1)\n",
    "            self.activity.append(activity) \n",
    "            return \n",
    "        \n",
    "        if \"H2O\" not in self.components or ((\"HNO3\" not in self.components) and (\"H2SO4\" not in self.components)):\n",
    "            for i, component in enumerate(self.components):\n",
    "                activity = self.get_phase(1).fractions[i]*self.vapour_pressure[i]\n",
    "                if component == \"CO2\":\n",
    "                   activity = 1e50\n",
    "                self.activity_coefficient.append(1)\n",
    "                self.activity.append(activity) \n",
    "            return \n",
    "        for i, component in enumerate(self.components):\n",
    "            if component == \"H2O\":\n",
    "                activity = 0\n",
    "                if \"HNO3\" in self.components:\n",
    "                    activity += np.exp((0.06*(self.temperature - 273.15)-13.3637)*\n",
    "                (self.get_phase(1).get_fraction_component(\"HNO3\"))**2)\n",
    "                if \"H2SO4\" in self.components:\n",
    "                    activity += (calc_activity_water_h2so4(self.temperature,\n",
    "                            self.get_phase(1).get_fraction_component(\"H2O\")))\n",
    "            elif component == \"HNO3\":\n",
    "                activity = np.exp((self.ActivityK1[i]*(self.temperature - 273.15)-self.ActivityK2[i])*\n",
    "                (self.get_phase(1).get_fraction_component(\"H2O\"))**2)\n",
    "            elif component == \"H2SO4\":\n",
    "                activity = np.exp((self.ActivityK1[i]*((self.temperature - 273.15)**2)+self.ActivityK2[i]*(self.temperature - 273.15) + self.ActivityK3[i])*\n",
    "                (self.get_phase(1).get_fraction_component(\"H2O\"))**2)   \n",
    "            else:\n",
    "                activity = 1e50\n",
    "            self.activity.append(activity)  \n",
    "\n",
    "        for i, component in enumerate(self.components):    \n",
    "            self.activity_coefficient.append(self.activity[i])\n",
    "            self.activity[i] = self.activity[i]*self.get_phase(1).fractions[i]*self.vapour_pressure[i]\n",
    "\n",
    "    def calc_fugacicy_coefficient_neqsim_CPA(self):\n",
    "        self.fug_coeff = []\n",
    "        for i, component in enumerate(self.components): \n",
    "            if component == \"H2O\":\n",
    "                fug_c = get_water_fugacity_coefficient(self.pressure, self.temperature - 273.15)[1]\n",
    "            elif component == \"HNO3\" or component == \"H2SO4\":\n",
    "                fug_c= get_acid_fugacity_coeff(component, self.pressure, self.temperature - 273.15)[0]\n",
    "            elif component == \"CO2\": \n",
    "                fug_c = 1.0\n",
    "            self.fug_coeff.append(fug_c)     \n",
    "\n",
    "    def calc_fugacity_neqsim_CPA(self, fractions):\n",
    "        self.fugacity = []\n",
    "        for i, component in enumerate(self.components): \n",
    "            self.fugacity.append(self.fug_coeff[i]*self.pressure*fractions[i])          \n",
    "                        \n",
    "\n",
    "    def flash_activity(self):\n",
    "        self.calc_vapour_pressure()\n",
    "        self.normalize()\n",
    "        self.K_values = [1e50, 0.005, 0.005]\n",
    "        self.calc_fugacicy_coefficient_neqsim_CPA()\n",
    "        iteration = 0\n",
    "        while(1):\n",
    "            K_old = self.K_values.copy()\n",
    "            bettaOld = self.betta\n",
    "            self.solve_Rachford_Rice()\n",
    "            bettaNew  = self.betta\n",
    "            delta_betta = abs(bettaOld - bettaNew)\n",
    "            self.calc_phases()\n",
    "            for i in range(len(self.phases)):\n",
    "                    self.phases[i].set_phase_flow_rate(self.flow_rate)\n",
    "            self.get_phase(1).fractions[0] = 1e-50\n",
    "            self.get_phase(1).normalize()\n",
    "            self.calc_fugacity_neqsim_CPA(self.phases[0].fractions)\n",
    "            self.calc_activity()\n",
    "            self.update_k_values_activity()\n",
    "            K_new = self.K_values.copy()\n",
    "            iteration += 1\n",
    "            error = 0\n",
    "\n",
    "            for i, component in enumerate(self.components):\n",
    "                error += abs(K_new[i] - K_old[i])\n",
    "\n",
    "            iteration += 1\n",
    "\n",
    "\n",
    "            if iteration > 10000:\n",
    "                break\n",
    "                \n",
    "            if error < self.tol:\n",
    "                break\n",
    "\n",
    "    def get_phase(self, i):\n",
    "        return self.phases[i]\n",
    "\n",
    "\n",
    "\n"
   ]
  },
  {
   "cell_type": "code",
   "execution_count": 26,
   "metadata": {},
   "outputs": [
    {
     "name": "stdout",
     "output_type": "stream",
     "text": [
      "Mole fraction of gas phase to total phase 1\n",
      "wt of acid nan\n",
      "acid in kg 0.0\n",
      "water in CO2 ppm 399.36102236421726\n",
      "HNO3 in CO2 ppm 1198.0830670926514\n"
     ]
    }
   ],
   "source": [
    "acid = \"HNO3\"\n",
    "temperature = 40 # C\n",
    "pressure = 100 # bara\n",
    "fluid = Fluid()\n",
    "fluid.add_component(\"CO2\", 1.0) #mole\n",
    "fluid.add_component(\"HNO3\", 1200/1e6) #mole\n",
    "fluid.add_component(\"H2O\", 400/1e6) #mole\n",
    "fluid.set_temperature(temperature+273.15)\n",
    "fluid.set_pressure(pressure)\n",
    "fluid.calc_vapour_pressure()\n",
    "fluid.flash_activity()\n",
    "\n",
    "print(\"Mole fraction of gas phase to total phase\", fluid.betta)\n",
    "print(\"wt of acid\", fluid.phases[1].get_acid_wt_prc(\"HNO3\"))\n",
    "print(\"acid in kg\", fluid.phases[1].get_flow_rate(\"kg/hr\"))\n",
    "print(\"water in CO2 ppm\", 1e6*fluid.phases[0].fractions[2])\n",
    "print(\"HNO3 in CO2 ppm\", 1e6*fluid.phases[0].fractions[1])\n"
   ]
  },
  {
   "cell_type": "code",
   "execution_count": 150,
   "metadata": {},
   "outputs": [
    {
     "name": "stdout",
     "output_type": "stream",
     "text": [
      "0.9987033927445736\n"
     ]
    }
   ],
   "source": [
    "print(fluid.betta)"
   ]
  },
  {
   "cell_type": "code",
   "execution_count": 122,
   "metadata": {},
   "outputs": [
    {
     "name": "stdout",
     "output_type": "stream",
     "text": [
      "0.9999978327014105\n"
     ]
    }
   ],
   "source": [
    "print(fluid.betta)"
   ]
  },
  {
   "cell_type": "code",
   "execution_count": 103,
   "metadata": {},
   "outputs": [
    {
     "name": "stdout",
     "output_type": "stream",
     "text": [
      "[99.75628027537425, 0.05335785686114149, 0.012157217008355644]\n"
     ]
    }
   ],
   "source": [
    "print(fluid.activity)"
   ]
  },
  {
   "cell_type": "code",
   "execution_count": 101,
   "metadata": {},
   "outputs": [
    {
     "name": "stdout",
     "output_type": "stream",
     "text": [
      "1995.6220995179415\n"
     ]
    }
   ],
   "source": [
    "print(fluid.phases[0].fractions[1]*1e6)"
   ]
  },
  {
   "cell_type": "code",
   "execution_count": 102,
   "metadata": {},
   "outputs": [
    {
     "name": "stdout",
     "output_type": "stream",
     "text": [
      "441.57514673953267\n"
     ]
    }
   ],
   "source": [
    "print(fluid.phases[0].fractions[2]*1e6)"
   ]
  },
  {
   "cell_type": "code",
   "execution_count": 70,
   "metadata": {},
   "outputs": [
    {
     "data": {
      "text/plain": [
       "0.48458537929171686"
      ]
     },
     "execution_count": 70,
     "metadata": {},
     "output_type": "execute_result"
    }
   ],
   "source": [
    "fluid.phases[1].fractions[1]"
   ]
  },
  {
   "cell_type": "code",
   "execution_count": 71,
   "metadata": {},
   "outputs": [
    {
     "name": "stdout",
     "output_type": "stream",
     "text": [
      "[72014252.12990843, 0.05356411847548529, 0.005596977797087575]\n"
     ]
    }
   ],
   "source": [
    "print(fluid.activity)"
   ]
  },
  {
   "cell_type": "code",
   "execution_count": 72,
   "metadata": {},
   "outputs": [
    {
     "data": {
      "text/plain": [
       "0.5011535210996954"
      ]
     },
     "execution_count": 72,
     "metadata": {},
     "output_type": "execute_result"
    }
   ],
   "source": [
    "fluid.betta"
   ]
  },
  {
   "cell_type": "code",
   "execution_count": 14,
   "metadata": {},
   "outputs": [
    {
     "data": {
      "text/plain": [
       "[7.204090991912512e+17, 0.037526149181579024, 0.01420615082641079]"
      ]
     },
     "execution_count": 14,
     "metadata": {},
     "output_type": "execute_result"
    }
   ],
   "source": [
    "fluid.activity"
   ]
  },
  {
   "cell_type": "code",
   "execution_count": 220,
   "metadata": {},
   "outputs": [
    {
     "name": "stdout",
     "output_type": "stream",
     "text": [
      "0.27163123464599326\n"
     ]
    }
   ],
   "source": [
    "print(sum(fluid.phases[1].fractions))"
   ]
  },
  {
   "cell_type": "code",
   "execution_count": 210,
   "metadata": {},
   "outputs": [
    {
     "name": "stdout",
     "output_type": "stream",
     "text": [
      "442.65398180503286\n"
     ]
    }
   ],
   "source": [
    "print(fluid.phases[0].fractions[2]*1e6)"
   ]
  },
  {
   "cell_type": "code",
   "execution_count": 91,
   "metadata": {},
   "outputs": [
    {
     "name": "stdout",
     "output_type": "stream",
     "text": [
      "[9.272845540236989e-07, 0.3993985052345737, 0.60060056748076]\n"
     ]
    }
   ],
   "source": [
    "print(fluid.phases[1].fractions)"
   ]
  },
  {
   "cell_type": "code",
   "execution_count": 54,
   "metadata": {},
   "outputs": [
    {
     "name": "stdout",
     "output_type": "stream",
     "text": [
      "199.63547738340012\n"
     ]
    }
   ],
   "source": [
    "print(fluid.phases[0].fractions[2]*1e6)"
   ]
  },
  {
   "cell_type": "code",
   "execution_count": 47,
   "metadata": {},
   "outputs": [
    {
     "name": "stdout",
     "output_type": "stream",
     "text": [
      "0.9906549898387311\n"
     ]
    }
   ],
   "source": [
    "print(fluid.betta)"
   ]
  },
  {
   "cell_type": "code",
   "execution_count": 92,
   "metadata": {},
   "outputs": [
    {
     "data": {
      "text/plain": [
       "[0.03268825220855635, 0.014148771242213292]"
      ]
     },
     "execution_count": 92,
     "metadata": {},
     "output_type": "execute_result"
    }
   ],
   "source": [
    "acid = \"HNO3\"\n",
    "acid_content = 0.4 \n",
    "temperature = 50\n",
    "pressure = 100\n",
    "fluid = Fluid()\n",
    "fluid.add_component(acid, acid_content)\n",
    "fluid.add_component(\"H2O\", 1-acid_content)\n",
    "fluid.set_temperature(temperature+273.15)\n",
    "fluid.set_pressure(pressure)\n",
    "fluid.set_flow_rate(1, \"kg/hr\")\n",
    "fluid.get_phase(1).components = fluid.components\n",
    "fluid.get_phase(1).fractions = [acid_content, 1-acid_content]\n",
    "fluid.calc_vapour_pressure()\n",
    "fluid.calc_activity()\n",
    "fluid.activity\n"
   ]
  },
  {
   "cell_type": "code",
   "execution_count": 59,
   "metadata": {},
   "outputs": [
    {
     "data": {
      "text/plain": [
       "[99.9438766655267, 0.02976979413502801, 0.01631164501700501]"
      ]
     },
     "execution_count": 59,
     "metadata": {},
     "output_type": "execute_result"
    }
   ],
   "source": [
    "fluid.fugacity"
   ]
  },
  {
   "cell_type": "code",
   "execution_count": null,
   "metadata": {},
   "outputs": [],
   "source": [
    "def calc_fugacity_neqsim_CPA():\n",
    "    for component in fluid.components:\n",
    "        if component == \"H2O\":\n",
    "            get_water_fugacity_coefficient(pressure, temperature)"
   ]
  },
  {
   "cell_type": "code",
   "execution_count": 5,
   "metadata": {},
   "outputs": [],
   "source": [
    "def get_acid_activity(acid, acid_content, pressure, temperature):\n",
    "    fluid = Fluid()\n",
    "    fluid.add_component(acid, acid_content)\n",
    "    fluid.add_component(\"H2O\", 1-acid_content)\n",
    "    fluid.set_temperature(temperature+273.15)\n",
    "    fluid.set_pressure(pressure)\n",
    "    fluid.set_flow_rate(1, \"kg/hr\")\n",
    "    fluid.get_phase(1).components = fluid.components\n",
    "    fluid.get_phase(1).fractions = [acid_content, 1-acid_content]\n",
    "    fluid.calc_vapour_pressure()\n",
    "    fluid.calc_activity()\n",
    "    activity_h2so4 = fluid.activity\n",
    "    return activity_h2so4"
   ]
  },
  {
   "cell_type": "code",
   "execution_count": 84,
   "metadata": {},
   "outputs": [
    {
     "name": "stdout",
     "output_type": "stream",
     "text": [
      "Solubility of  HNO3   38.0  mole prc acid in CO2  is  1140.8339447111523  ppm\n",
      "Solubility of  water    38.0  mole prc acid in CO2  is  534.467221559408  ppm\n"
     ]
    }
   ],
   "source": [
    "acid = \"HNO3\"\n",
    "acid_content = 0.38 #mole fraction of acid in water\n",
    "pressure = 100 # bara\n",
    "temperature = 50 # C\n",
    "\n",
    "solubility_acid = get_acid_activity(acid, acid_content, pressure, temperature)[0]/(pressure*get_acid_fugacity_coeff(acid, pressure, temperature)[0])\n",
    "\n",
    "#(pressure*get_acid_fugacity_coeff(acid, pressure, temperature)[0])\n",
    "solubility_water = get_acid_activity(acid, acid_content, pressure, temperature)[1]/(pressure*get_water_fugacity_coefficient(pressure, temperature)[1])\n",
    "\n",
    "print(\"Solubility of \", acid, \" \", acid_content*100, \" mole prc acid in CO2\", \" is \", solubility_acid*1e6 , \" ppm\")\n",
    "print(\"Solubility of \", \"water \", \" \", acid_content*100, \" mole prc acid in CO2\", \" is \", solubility_water*1e6 , \" ppm\")"
   ]
  },
  {
   "cell_type": "code",
   "execution_count": 67,
   "metadata": {},
   "outputs": [
    {
     "data": {
      "text/plain": [
       "0.03066010618339378"
      ]
     },
     "execution_count": 67,
     "metadata": {},
     "output_type": "execute_result"
    }
   ],
   "source": [
    "get_acid_activity(acid, acid_content, pressure, temperature)[0]"
   ]
  },
  {
   "cell_type": "code",
   "execution_count": 58,
   "metadata": {},
   "outputs": [
    {
     "data": {
      "text/plain": [
       "25.175000485067727"
      ]
     },
     "execution_count": 58,
     "metadata": {},
     "output_type": "execute_result"
    }
   ],
   "source": [
    "pressure*get_acid_fugacity_coeff(acid, pressure, temperature)[0]"
   ]
  },
  {
   "cell_type": "code",
   "execution_count": 57,
   "metadata": {},
   "outputs": [
    {
     "data": {
      "text/plain": [
       "0.03268825220855635"
      ]
     },
     "execution_count": 57,
     "metadata": {},
     "output_type": "execute_result"
    }
   ],
   "source": [
    "get_acid_activity(acid, acid_content, pressure, temperature)[0]"
   ]
  },
  {
   "cell_type": "code",
   "execution_count": 11,
   "metadata": {},
   "outputs": [
    {
     "name": "stdout",
     "output_type": "stream",
     "text": [
      "Solubility of  H2SO4   90.0  mole prc acid in CO2  is  0.507987433737322  ppm\n",
      "Solubility of  water    90.0  mole prc acid in CO2  is  5.512703020598119  ppm\n"
     ]
    }
   ],
   "source": [
    "acid = \"H2SO4\"\n",
    "acid_content = 0.9 #mole fraction of acid in water\n",
    "pressure = 1 # bara\n",
    "temperature =  25 # C\n",
    "\n",
    "solubility_acid = get_acid_activity(acid, acid_content, pressure, temperature)[0]/(pressure*get_acid_fugacity_coeff(acid, pressure, temperature)[0])\n",
    "solubility_water = get_acid_activity(acid, acid_content, pressure, temperature)[1]/(pressure*get_water_fugacity_coefficient(pressure, temperature)[1])\n",
    "\n",
    "print(\"Solubility of \", acid, \" \", acid_content*100, \" mole prc acid in CO2\", \" is \", solubility_acid*1e6 , \" ppm\")\n",
    "print(\"Solubility of \", \"water \", \" \", acid_content*100, \" mole prc acid in CO2\", \" is \", solubility_water*1e6 , \" ppm\")"
   ]
  },
  {
   "cell_type": "code",
   "execution_count": 43,
   "metadata": {},
   "outputs": [
    {
     "data": {
      "text/plain": [
       "[0.5807104428484381, 0.20928043591876253]"
      ]
     },
     "execution_count": 43,
     "metadata": {},
     "output_type": "execute_result"
    }
   ],
   "source": [
    "def get_component_list(fluid):\n",
    "    \"\"\"\n",
    "    This function takes a fluid neqsim object as input and returns a list of components in the fluid.\n",
    "\n",
    "    Args:\n",
    "    - fluid: a neqsim fluid object\n",
    "\n",
    "    Returns:\n",
    "    - components_list: a list of names of components in the fluid\n",
    "    \"\"\"\n",
    "\n",
    "    number_of_components = fluid.getNumberOfComponents()\n",
    "    components_list = []\n",
    "    for i in range(number_of_components):\n",
    "        component = fluid.getComponent(i)\n",
    "        name = component.getName()\n",
    "        components_list.append(name)\n",
    "    return components_list\n",
    "\n",
    "def get_gas_fug_coef(fluid1):\n",
    "    fug = []\n",
    "    components_list = get_component_list(fluid1)\n",
    "    for component in components_list:\n",
    "        fug.append(fluid1.getPhase(0).getComponent(component).getFugacityCoefficient())\n",
    "    return fug\n",
    "\n",
    "def get_fugacity(fluid1):\n",
    "    fugacity = []\n",
    "    components_list = get_component_list(fluid1)\n",
    "    i = -1\n",
    "    for component in components_list:\n",
    "        i += 1\n",
    "        fugacity.append(get_gas_fug_coef(fluid1)[i]*fluid1.getPressure(\"bara\")*fluid1.getPhase(0).getComponent(component).getx())\n",
    "    return fugacity\n",
    "\n",
    "def get_acid_fugacity_coeff(acid, pressure, temperature):\n",
    "    from neqsim import jNeqSim\n",
    "    from neqsim.thermo import printFrame\n",
    "    \n",
    "\n",
    "    fluid1 = jNeqSim.thermo.system.SystemSrkCPAstatoil(298.15, 1.01325) ## CPA model\n",
    "    fluid1.setTemperature(temperature, 'C')\n",
    "    fluid1.setPressure(pressure, 'bara')\n",
    "    fluid1.addComponent(acid, 1.0)\n",
    "    fluid1.addComponent('water', 0.1)\n",
    "    fluid1.addComponent('CO2', 1.0)\n",
    "    fluid1.setMixingRule(9)\n",
    "    fluid1.setMultiPhaseCheck(True)\n",
    "\n",
    "    components_list = get_component_list(fluid1)\n",
    "    test_ops = jNeqSim.thermodynamicOperations.ThermodynamicOperations(fluid1)\n",
    "    test_ops.TPflash()\n",
    "\n",
    "    if acid==\"HNO3\":    \n",
    "        value = 0.37 #HNO3\n",
    "    else:\n",
    "        value = 0.08 - 0.27315*((temperature + 273.15)/273.15 - 1.0)\n",
    "\n",
    "    (fluid1.getPhases()[0]).getMixingRule().setBinaryInteractionParameter(\n",
    "                components_list.index(acid), components_list.index(\"CO2\"), value)\n",
    "\n",
    "    (fluid1.getPhases()[1]).getMixingRule().setBinaryInteractionParameter(\n",
    "                components_list.index(acid), components_list.index(\"CO2\"), value)\n",
    "\n",
    "    test_ops.TPflash()\n",
    "\n",
    "    return (get_gas_fug_coef(fluid1))\n",
    "\n",
    "def get_water_fugacity_coefficient(pressure, temperature):\n",
    "\n",
    "    temperature = temperature + 273.15\n",
    "    fluid1 = jNeqSim.thermo.system.SystemSrkCPAstatoil(298.15, 1.01325) ## CPA model\n",
    "    fluid1.setTemperature(temperature, 'K')\n",
    "    fluid1.setPressure(pressure, 'bara')\n",
    "    fluid1.addComponent('CO2', 110.0)\n",
    "    fluid1.addComponent('water', 100.0)\n",
    "    fluid1.setMixingRule(9)\n",
    "    fluid1.setMultiPhaseCheck(True)\n",
    "\n",
    "    components_list = get_component_list(fluid1)\n",
    "    test_ops = jNeqSim.thermodynamicOperations.ThermodynamicOperations(fluid1)\n",
    "    test_ops.TPflash()\n",
    "\n",
    "    value = -0.28985\n",
    "    valueT = -0.273\n",
    "\n",
    "    val = value + valueT*(temperature/273.15 - 1.0)\n",
    "\n",
    "    (fluid1.getPhases()[0]).getMixingRule().setBinaryInteractionParameter(\n",
    "                components_list.index(\"water\"), components_list.index(\"CO2\"), val)\n",
    "\n",
    "\n",
    "    test_ops.TPflash()\n",
    "\n",
    "    return (get_gas_fug_coef(fluid1))\n",
    "\n",
    "\n",
    "get_water_fugacity_coefficient(120, 50)\n"
   ]
  },
  {
   "cell_type": "code",
   "execution_count": 19,
   "metadata": {},
   "outputs": [
    {
     "name": "stdout",
     "output_type": "stream",
     "text": [
      "Solubility of  H2SO4   90.0  mole prc acid in CO2  is  1.0519517719293339  ppm\n",
      "Solubility of  water    90.0  mole prc acid in CO2  is  0.3485341251557645  ppm\n"
     ]
    }
   ],
   "source": [
    "acid = \"H2SO4\"\n",
    "acid_content = 0.9 #mole fraction of acid in water\n",
    "pressure = 100 # bara\n",
    "temperature = 0 # C\n",
    "\n",
    "solubility_acid = get_acid_activity(acid, acid_content, pressure, temperature)[0]/(pressure*get_acid_fugacity_coeff(acid, pressure, temperature)[0])\n",
    "\n",
    "#(pressure*get_acid_fugacity_coeff(acid, pressure, temperature)[0])\n",
    "solubility_water = get_acid_activity(acid, acid_content, pressure, temperature)[1]/(pressure*get_water_fugacity_coefficient(pressure, temperature)[1])\n",
    "\n",
    "print(\"Solubility of \", acid, \" \", acid_content*100, \" mole prc acid in CO2\", \" is \", solubility_acid*1e6 , \" ppm\")\n",
    "print(\"Solubility of \", \"water \", \" \", acid_content*100, \" mole prc acid in CO2\", \" is \", solubility_water*1e6 , \" ppm\")"
   ]
  }
 ],
 "metadata": {
  "kernelspec": {
   "display_name": "Python 3",
   "language": "python",
   "name": "python3"
  },
  "language_info": {
   "codemirror_mode": {
    "name": "ipython",
    "version": 3
   },
   "file_extension": ".py",
   "mimetype": "text/x-python",
   "name": "python",
   "nbconvert_exporter": "python",
   "pygments_lexer": "ipython3",
   "version": "3.12.9"
  }
 },
 "nbformat": 4,
 "nbformat_minor": 2
}
